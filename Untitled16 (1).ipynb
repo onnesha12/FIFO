{
  "nbformat": 4,
  "nbformat_minor": 0,
  "metadata": {
    "colab": {
      "provenance": []
    },
    "kernelspec": {
      "name": "python3",
      "display_name": "Python 3"
    },
    "language_info": {
      "name": "python"
    }
  },
  "cells": [
    {
      "cell_type": "code",
      "source": [
        "def fifo_page_replacement(pages, capacity):\n",
        "    frame = []\n",
        "    page_faults = 0\n",
        "\n",
        "    print(\"Page Reference | Frame | Page Fault\")\n",
        "    for page in pages:\n",
        "        if page not in frame:\n",
        "            if len(frame) < capacity:\n",
        "                frame.append(page)\n",
        "            else:\n",
        "                frame.pop(0)\n",
        "                frame.append(page)\n",
        "            page_faults += 1\n",
        "            print(f\"{page:<14} {frame}  -> Fault\")\n",
        "        else:\n",
        "            print(f\"{page:<14} {frame}  -> Hit\")\n",
        "\n",
        "    print(\"\\nTotal Page Faults:\", page_faults)\n",
        "\n",
        "\n",
        "pages = [1, 3, 0, 3, 5, 6, 3]\n",
        "capacity = 3\n",
        "fifo_page_replacement(pages, capacity)\n"
      ],
      "metadata": {
        "colab": {
          "base_uri": "https://localhost:8080/"
        },
        "id": "-d2GZGgGuD2_",
        "outputId": "244bbcd7-981a-48e4-e8ff-21502332a285"
      },
      "execution_count": 2,
      "outputs": [
        {
          "output_type": "stream",
          "name": "stdout",
          "text": [
            "Page Reference | Frame | Page Fault\n",
            "1              [1]  -> Fault\n",
            "3              [1, 3]  -> Fault\n",
            "0              [1, 3, 0]  -> Fault\n",
            "3              [1, 3, 0]  -> Hit\n",
            "5              [3, 0, 5]  -> Fault\n",
            "6              [0, 5, 6]  -> Fault\n",
            "3              [5, 6, 3]  -> Fault\n",
            "\n",
            "Total Page Faults: 6\n"
          ]
        }
      ]
    }
  ]
}